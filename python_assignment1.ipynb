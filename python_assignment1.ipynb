{
  "nbformat": 4,
  "nbformat_minor": 0,
  "metadata": {
    "colab": {
      "name": "python_assignment1.ipynb",
      "provenance": [],
      "collapsed_sections": [],
      "authorship_tag": "ABX9TyOd3rm0tvmTcI53jTCsxIhf",
      "include_colab_link": true
    },
    "kernelspec": {
      "name": "python3",
      "display_name": "Python 3"
    },
    "language_info": {
      "name": "python"
    }
  },
  "cells": [
    {
      "cell_type": "markdown",
      "metadata": {
        "id": "view-in-github",
        "colab_type": "text"
      },
      "source": [
        "<a href=\"https://colab.research.google.com/github/charumathikumar/python_assignment1/blob/main/python_assignment1.ipynb\" target=\"_parent\"><img src=\"https://colab.research.google.com/assets/colab-badge.svg\" alt=\"Open In Colab\"/></a>"
      ]
    },
    {
      "cell_type": "code",
      "metadata": {
        "id": "PKzaH_ZhNpS2",
        "colab": {
          "base_uri": "https://localhost:8080/"
        },
        "outputId": "be42d2bb-842e-4315-e3e9-ce37643a1bdf"
      },
      "source": [
        "x=11\n",
        "y=5\n",
        "print(\"x to the power y: \", x**y)\n"
      ],
      "execution_count": 2,
      "outputs": [
        {
          "output_type": "stream",
          "text": [
            "x to the power y:  161051\n"
          ],
          "name": "stdout"
        }
      ]
    }
  ]
}