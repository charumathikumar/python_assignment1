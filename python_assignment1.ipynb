{
  "nbformat": 4,
  "nbformat_minor": 0,
  "metadata": {
    "colab": {
      "name": "python_assignment1.ipynb",
      "provenance": [],
      "collapsed_sections": [],
      "authorship_tag": "ABX9TyMvPDeYtTd5NFmEIbRzWGqr",
      "include_colab_link": true
    },
    "kernelspec": {
      "name": "python3",
      "display_name": "Python 3"
    },
    "language_info": {
      "name": "python"
    }
  },
  "cells": [
    {
      "cell_type": "markdown",
      "metadata": {
        "id": "view-in-github",
        "colab_type": "text"
      },
      "source": [
        "<a href=\"https://colab.research.google.com/github/charumathikumar/python_assignment1/blob/main/python_assignment1.ipynb\" target=\"_parent\"><img src=\"https://colab.research.google.com/assets/colab-badge.svg\" alt=\"Open In Colab\"/></a>"
      ]
    },
    {
      "cell_type": "code",
      "metadata": {
        "id": "PKzaH_ZhNpS2",
        "colab": {
          "base_uri": "https://localhost:8080/"
        },
        "outputId": "81de820a-a3bb-4e81-f7e5-fdfb061c15f6"
      },
      "source": [
        "x=int(input(\"enter x: \"))\n",
        "y=int(input(\"enter y: \"))\n",
        "print(\"x to the power y: \", x**y)\n"
      ],
      "execution_count": 3,
      "outputs": [
        {
          "output_type": "stream",
          "text": [
            "enter x: 3\n",
            "enter y: 7\n",
            "x to the power y:  2187\n"
          ],
          "name": "stdout"
        }
      ]
    }
  ]
}